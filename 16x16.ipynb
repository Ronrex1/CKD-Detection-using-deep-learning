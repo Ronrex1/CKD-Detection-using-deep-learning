{
 "cells": [
  {
   "cell_type": "code",
   "execution_count": 103,
   "id": "f20ba5d5",
   "metadata": {},
   "outputs": [],
   "source": [
    "import numpy as np\n",
    "import pandas as pd\n",
    "from pathlib import Path\n",
    "import matplotlib.pyplot as plt\n",
    "import seaborn as sns\n",
    "from skimage.io import imread\n",
    "import cv2\n",
    "import os\n",
    "import glob"
   ]
  },
  {
   "cell_type": "code",
   "execution_count": 104,
   "id": "ed0580a3",
   "metadata": {},
   "outputs": [],
   "source": [
    "inputfolder = 'dataset/Cyst'\n",
    "os.makedirs('resized dataset/Resized Folder 16x16/Cyst', exist_ok=True)\n",
    "\n",
    "i = 1\n",
    "\n",
    "for img in glob.glob(inputfolder + \"/*.jpg\"):\n",
    "    image = cv2.imread(img)\n",
    "    imgResized = cv2.resize(image, (16, 16))\n",
    "    cv2.imwrite(\"resized dataset/Resized Folder 16x16/Cyst/Cyst- (%i).jpg\" % i, imgResized)\n",
    "    i += 1"
   ]
  },
  {
   "cell_type": "code",
   "execution_count": 105,
   "id": "6f68811c",
   "metadata": {},
   "outputs": [],
   "source": [
    "inputfolder = 'dataset/Normal'\n",
    "os.makedirs('resized dataset/Resized Folder 16x16/Normal', exist_ok=True)\n",
    "\n",
    "i = 1\n",
    "\n",
    "for img in glob.glob(inputfolder + \"/*.jpg\"):\n",
    "    image = cv2.imread(img)\n",
    "    imgResized = cv2.resize(image, (16, 16))\n",
    "    cv2.imwrite(\"resized dataset/Resized Folder 16x16/Normal/Normal- (%i).jpg\" % i, imgResized)\n",
    "    i += 1"
   ]
  },
  {
   "cell_type": "code",
   "execution_count": 106,
   "id": "108cb998",
   "metadata": {},
   "outputs": [],
   "source": [
    "inputfolder = 'dataset/Stone'\n",
    "os.makedirs('resized dataset/Resized Folder 16x16/Stone', exist_ok=True)\n",
    "\n",
    "i = 1\n",
    "\n",
    "for img in glob.glob(inputfolder + \"/*.jpg\"):\n",
    "    image = cv2.imread(img)\n",
    "    imgResized = cv2.resize(image, (16, 16))\n",
    "    cv2.imwrite(\"resized dataset/Resized Folder 16x16/Stone/Stone- (%i).jpg\" % i, imgResized)\n",
    "    i += 1"
   ]
  },
  {
   "cell_type": "code",
   "execution_count": 107,
   "id": "16dab6a1",
   "metadata": {},
   "outputs": [],
   "source": [
    "inputfolder = 'dataset/Tumor'\n",
    "os.makedirs('resized dataset/Resized Folder 16x16/Tumor', exist_ok=True)\n",
    "\n",
    "i = 1\n",
    "\n",
    "for img in glob.glob(inputfolder + \"/*.jpg\"):\n",
    "    image = cv2.imread(img)\n",
    "    imgResized = cv2.resize(image, (16, 16))\n",
    "    cv2.imwrite(\"resized dataset/Resized Folder 16x16/Tumor/Tumor- (%i).jpg\" % i, imgResized)\n",
    "    i += 1"
   ]
  },
  {
   "cell_type": "code",
   "execution_count": 108,
   "id": "d2ff0ab9",
   "metadata": {},
   "outputs": [],
   "source": [
    "data_dir = Path('resized dataset/Resized Folder 16x16')\n",
    "train_dir = data_dir"
   ]
  },
  {
   "cell_type": "code",
   "execution_count": 109,
   "id": "6b0f8794",
   "metadata": {},
   "outputs": [],
   "source": [
    "Normal_Cases_dir = train_dir / 'Normal'\n",
    "Cyst_Cases_dir = train_dir / 'Cyst'\n",
    "Stone_Cases_dir = train_dir / 'Stone'\n",
    "Tumor_Cases_dir = train_dir / 'Tumor'"
   ]
  },
  {
   "cell_type": "code",
   "execution_count": 110,
   "id": "013a9442",
   "metadata": {},
   "outputs": [],
   "source": [
    "Normal_Cases = Normal_Cases_dir.glob('*.jpg') \n",
    "Cyst_Cases = Cyst_Cases_dir.glob('*.jpg') \n",
    "Stone_Cases = Stone_Cases_dir.glob('*.jpg')\n",
    "Tumor_Cases = Tumor_Cases_dir.glob('*.jpg')"
   ]
  },
  {
   "cell_type": "code",
   "execution_count": 111,
   "id": "86351d84",
   "metadata": {},
   "outputs": [],
   "source": [
    "train_data = []"
   ]
  },
  {
   "cell_type": "code",
   "execution_count": 112,
   "id": "fb37ced5",
   "metadata": {},
   "outputs": [],
   "source": [
    "for img in Cyst_Cases:\n",
    "    train_data.append((img, 0))\n",
    "\n",
    "for img in Normal_Cases:\n",
    "    train_data.append((img, 1))\n",
    "\n",
    "for img in Stone_Cases:\n",
    "    train_data.append((img, 2))\n",
    "\n",
    "for img in Tumor_Cases:\n",
    "    train_data.append((img, 3))"
   ]
  },
  {
   "cell_type": "code",
   "execution_count": 113,
   "id": "db428cd6",
   "metadata": {},
   "outputs": [
    {
     "data": {
      "text/html": [
       "<div>\n",
       "<style scoped>\n",
       "    .dataframe tbody tr th:only-of-type {\n",
       "        vertical-align: middle;\n",
       "    }\n",
       "\n",
       "    .dataframe tbody tr th {\n",
       "        vertical-align: top;\n",
       "    }\n",
       "\n",
       "    .dataframe thead th {\n",
       "        text-align: right;\n",
       "    }\n",
       "</style>\n",
       "<table border=\"1\" class=\"dataframe\">\n",
       "  <thead>\n",
       "    <tr style=\"text-align: right;\">\n",
       "      <th></th>\n",
       "      <th>image</th>\n",
       "      <th>label</th>\n",
       "    </tr>\n",
       "  </thead>\n",
       "  <tbody>\n",
       "    <tr>\n",
       "      <th>0</th>\n",
       "      <td>resized dataset/Resized Folder 16x16/Cyst/Cyst...</td>\n",
       "      <td>0</td>\n",
       "    </tr>\n",
       "    <tr>\n",
       "      <th>1</th>\n",
       "      <td>resized dataset/Resized Folder 16x16/Cyst/Cyst...</td>\n",
       "      <td>0</td>\n",
       "    </tr>\n",
       "    <tr>\n",
       "      <th>2</th>\n",
       "      <td>resized dataset/Resized Folder 16x16/Cyst/Cyst...</td>\n",
       "      <td>0</td>\n",
       "    </tr>\n",
       "    <tr>\n",
       "      <th>3</th>\n",
       "      <td>resized dataset/Resized Folder 16x16/Cyst/Cyst...</td>\n",
       "      <td>0</td>\n",
       "    </tr>\n",
       "    <tr>\n",
       "      <th>4</th>\n",
       "      <td>resized dataset/Resized Folder 16x16/Cyst/Cyst...</td>\n",
       "      <td>0</td>\n",
       "    </tr>\n",
       "    <tr>\n",
       "      <th>...</th>\n",
       "      <td>...</td>\n",
       "      <td>...</td>\n",
       "    </tr>\n",
       "    <tr>\n",
       "      <th>12441</th>\n",
       "      <td>resized dataset/Resized Folder 16x16/Tumor/Tum...</td>\n",
       "      <td>3</td>\n",
       "    </tr>\n",
       "    <tr>\n",
       "      <th>12442</th>\n",
       "      <td>resized dataset/Resized Folder 16x16/Tumor/Tum...</td>\n",
       "      <td>3</td>\n",
       "    </tr>\n",
       "    <tr>\n",
       "      <th>12443</th>\n",
       "      <td>resized dataset/Resized Folder 16x16/Tumor/Tum...</td>\n",
       "      <td>3</td>\n",
       "    </tr>\n",
       "    <tr>\n",
       "      <th>12444</th>\n",
       "      <td>resized dataset/Resized Folder 16x16/Tumor/Tum...</td>\n",
       "      <td>3</td>\n",
       "    </tr>\n",
       "    <tr>\n",
       "      <th>12445</th>\n",
       "      <td>resized dataset/Resized Folder 16x16/Tumor/Tum...</td>\n",
       "      <td>3</td>\n",
       "    </tr>\n",
       "  </tbody>\n",
       "</table>\n",
       "<p>12446 rows × 2 columns</p>\n",
       "</div>"
      ],
      "text/plain": [
       "                                                   image  label\n",
       "0      resized dataset/Resized Folder 16x16/Cyst/Cyst...      0\n",
       "1      resized dataset/Resized Folder 16x16/Cyst/Cyst...      0\n",
       "2      resized dataset/Resized Folder 16x16/Cyst/Cyst...      0\n",
       "3      resized dataset/Resized Folder 16x16/Cyst/Cyst...      0\n",
       "4      resized dataset/Resized Folder 16x16/Cyst/Cyst...      0\n",
       "...                                                  ...    ...\n",
       "12441  resized dataset/Resized Folder 16x16/Tumor/Tum...      3\n",
       "12442  resized dataset/Resized Folder 16x16/Tumor/Tum...      3\n",
       "12443  resized dataset/Resized Folder 16x16/Tumor/Tum...      3\n",
       "12444  resized dataset/Resized Folder 16x16/Tumor/Tum...      3\n",
       "12445  resized dataset/Resized Folder 16x16/Tumor/Tum...      3\n",
       "\n",
       "[12446 rows x 2 columns]"
      ]
     },
     "execution_count": 113,
     "metadata": {},
     "output_type": "execute_result"
    }
   ],
   "source": [
    "train_data = pd.DataFrame(train_data, columns=['image', 'label'], index=None)\n",
    "train_data"
   ]
  },
  {
   "cell_type": "code",
   "execution_count": 114,
   "id": "1deb6b86",
   "metadata": {},
   "outputs": [
    {
     "data": {
      "text/html": [
       "<div>\n",
       "<style scoped>\n",
       "    .dataframe tbody tr th:only-of-type {\n",
       "        vertical-align: middle;\n",
       "    }\n",
       "\n",
       "    .dataframe tbody tr th {\n",
       "        vertical-align: top;\n",
       "    }\n",
       "\n",
       "    .dataframe thead th {\n",
       "        text-align: right;\n",
       "    }\n",
       "</style>\n",
       "<table border=\"1\" class=\"dataframe\">\n",
       "  <thead>\n",
       "    <tr style=\"text-align: right;\">\n",
       "      <th></th>\n",
       "      <th>image</th>\n",
       "      <th>label</th>\n",
       "    </tr>\n",
       "  </thead>\n",
       "  <tbody>\n",
       "    <tr>\n",
       "      <th>0</th>\n",
       "      <td>resized dataset/Resized Folder 16x16/Tumor/Tum...</td>\n",
       "      <td>3</td>\n",
       "    </tr>\n",
       "    <tr>\n",
       "      <th>1</th>\n",
       "      <td>resized dataset/Resized Folder 16x16/Stone/Sto...</td>\n",
       "      <td>2</td>\n",
       "    </tr>\n",
       "    <tr>\n",
       "      <th>2</th>\n",
       "      <td>resized dataset/Resized Folder 16x16/Cyst/Cyst...</td>\n",
       "      <td>0</td>\n",
       "    </tr>\n",
       "    <tr>\n",
       "      <th>3</th>\n",
       "      <td>resized dataset/Resized Folder 16x16/Cyst/Cyst...</td>\n",
       "      <td>0</td>\n",
       "    </tr>\n",
       "    <tr>\n",
       "      <th>4</th>\n",
       "      <td>resized dataset/Resized Folder 16x16/Cyst/Cyst...</td>\n",
       "      <td>0</td>\n",
       "    </tr>\n",
       "  </tbody>\n",
       "</table>\n",
       "</div>"
      ],
      "text/plain": [
       "                                               image  label\n",
       "0  resized dataset/Resized Folder 16x16/Tumor/Tum...      3\n",
       "1  resized dataset/Resized Folder 16x16/Stone/Sto...      2\n",
       "2  resized dataset/Resized Folder 16x16/Cyst/Cyst...      0\n",
       "3  resized dataset/Resized Folder 16x16/Cyst/Cyst...      0\n",
       "4  resized dataset/Resized Folder 16x16/Cyst/Cyst...      0"
      ]
     },
     "execution_count": 114,
     "metadata": {},
     "output_type": "execute_result"
    }
   ],
   "source": [
    "train_data = train_data.sample(frac=1.).reset_index(drop=True) \n",
    "train_data.head()"
   ]
  },
  {
   "cell_type": "code",
   "execution_count": 115,
   "id": "1cce76be",
   "metadata": {},
   "outputs": [
    {
     "data": {
      "text/plain": [
       "array([3, 2, 0, 1])"
      ]
     },
     "execution_count": 115,
     "metadata": {},
     "output_type": "execute_result"
    }
   ],
   "source": [
    "train_data['label'].unique()"
   ]
  },
  {
   "cell_type": "code",
   "execution_count": 116,
   "id": "445572e6",
   "metadata": {},
   "outputs": [
    {
     "data": {
      "text/plain": [
       "(12446, 2)"
      ]
     },
     "execution_count": 116,
     "metadata": {},
     "output_type": "execute_result"
    }
   ],
   "source": [
    "train_data.shape"
   ]
  },
  {
   "cell_type": "code",
   "execution_count": 117,
   "id": "69bd6789",
   "metadata": {},
   "outputs": [
    {
     "data": {
      "text/plain": [
       "label\n",
       "1    5077\n",
       "0    3709\n",
       "3    2283\n",
       "2    1377\n",
       "Name: count, dtype: int64"
      ]
     },
     "execution_count": 117,
     "metadata": {},
     "output_type": "execute_result"
    }
   ],
   "source": [
    "cases_count = train_data['label'].value_counts()\n",
    "cases_count"
   ]
  },
  {
   "cell_type": "code",
   "execution_count": 118,
   "id": "724828f4",
   "metadata": {},
   "outputs": [
    {
     "name": "stderr",
     "output_type": "stream",
     "text": [
      "/var/folders/m4/0yq10js97k90dzpb9_y3tfzc0000gn/T/ipykernel_27774/707280772.py:2: FutureWarning: \n",
      "\n",
      "Passing `palette` without assigning `hue` is deprecated and will be removed in v0.14.0. Assign the `x` variable to `hue` and set `legend=False` for the same effect.\n",
      "\n",
      "  sns.barplot(x = cases_count.index, y = cases_count.values, palette='bright', edgecolor='black')\n"
     ]
    },
    {
     "data": {
      "image/png": "[encoded data removed]",
      "text/plain": [
       "<Figure size 800x600 with 1 Axes>"
      ]
     },
     "metadata": {},
     "output_type": "display_data"
    }
   ],
   "source": [
    "plt.figure(figsize = (8,6))\n",
    "sns.barplot(x = cases_count.index, y = cases_count.values, palette='bright', edgecolor='black')\n",
    "plt.title('Number of Cases', fontsize=14)\n",
    "plt.xlabel('Case Type', fontsize = 12)\n",
    "plt.ylabel('Count', fontsize = 12)\n",
    "plt.xticks(range(len(cases_count.index)),['Cyst(0)', 'Normal(1)','Stone(2)','Tumor(3)'])\n",
    "plt.show()"
   ]
  },
  {
   "cell_type": "code",
   "execution_count": 119,
   "id": "cacdf9c4",
   "metadata": {},
   "outputs": [],
   "source": [
    "Cyst_Samples = (train_data[train_data['label'] == 0]['image'].iloc[:5]).tolist()\n",
    "Normal_Samples = (train_data[train_data['label'] == 1]['image'].iloc[:5]).tolist()\n",
    "Stone_Samples = (train_data[train_data['label'] == 2]['image'].iloc[:5]).tolist()\n",
    "Tumor_Samples = (train_data[train_data['label'] == 3]['image'].iloc[:5]).tolist()\n",
    "\n",
    "\n",
    "samples = Cyst_Samples + Normal_Samples + Stone_Samples + Tumor_Samples\n",
    "\n",
    "del Cyst_Samples, Normal_Samples, Stone_Samples, Tumor_Samples\n",
    "\n"
   ]
  },
  {
   "cell_type": "code",
   "execution_count": 120,
   "id": "129898bc",
   "metadata": {
    "scrolled": false
   },
   "outputs": [
    {
     "data": {
      "image/png": "[encoded data removed]",
      "text/plain": [
       "<Figure size 3000x3000 with 20 Axes>"
      ]
     },
     "metadata": {},
     "output_type": "display_data"
    }
   ],
   "source": [
    "f, ax = plt.subplots(4, 5,figsize=(30,30)) \n",
    "\n",
    "for i in range(20):\n",
    "    img = imread(samples[i]) \n",
    "    ax[i//5, i%5].imshow(img, cmap='gray') \n",
    "    \n",
    "\n",
    "    if i<5:\n",
    "        ax[i//5, i%5].set_title(\"Cyst_samples\")\n",
    "    elif i<10:\n",
    "        ax[i//5, i%5].set_title(\"Normal_samples\")\n",
    "    elif i<15:\n",
    "        ax[i//5, i%5].set_title(\"Stone_samples\")\n",
    "    elif i<20:\n",
    "        ax[i//5, i%5].set_title(\"Tumor_samples\")\n",
    "    \n",
    " \n",
    "    ax[i//5, i%5].axis('off')\n",
    "    ax[i//5, i%5].set_aspect('auto')\n",
    "\n",
    "plt.show()\n",
    "    "
   ]
  },
  {
   "cell_type": "code",
   "execution_count": 121,
   "id": "019be1e9",
   "metadata": {},
   "outputs": [],
   "source": [
    "\n",
    "Normal_Cases_dir = train_dir / 'Normal'\n",
    "Cyst_Cases_dir = train_dir / 'Cyst'\n",
    "Stone_Cases_dir = train_dir / 'Stone'\n",
    "Tumor_Cases_dir = train_dir / 'Tumor'"
   ]
  },
  {
   "cell_type": "code",
   "execution_count": 122,
   "id": "f9fe6028",
   "metadata": {},
   "outputs": [],
   "source": [
    "Normal_Cases = Normal_Cases_dir.glob('*.jpg')\n",
    "Cyst_Cases = Cyst_Cases_dir.glob('*.jpg')\n",
    "Stone_Cases = Stone_Cases_dir.glob('*.jpg')\n",
    "Tumor_Cases = Tumor_Cases_dir.glob('*.jpg')\n",
    "train_data = []\n",
    "train_labels = []"
   ]
  },
  {
   "cell_type": "code",
   "execution_count": 123,
   "id": "7e068ab5",
   "metadata": {},
   "outputs": [],
   "source": [
    "\n",
    "for img in Cyst_Cases:\n",
    "    img = cv2.imread(str(img))\n",
    "    if img.shape[2] == 1: \n",
    "        img = np.dstack([img, img, img])\n",
    "    img = cv2.cvtColor(img,cv2.COLOR_BGR2RGB) \n",
    "    img = np.array(img)\n",
    "    img = img/255  \n",
    "    label = 'Cyst' \n",
    "    train_data.append(img)\n",
    "    train_labels.append(label)"
   ]
  },
  {
   "cell_type": "code",
   "execution_count": 124,
   "id": "c7b1d7a7",
   "metadata": {
    "scrolled": true
   },
   "outputs": [],
   "source": [
    "for img in Normal_Cases:\n",
    "    img = cv2.imread(str(img))\n",
    "    if img.shape[2] == 1:\n",
    "        img = np.dstack([img, img, img])\n",
    "    img = cv2.cvtColor(img,cv2.COLOR_BGR2RGB)\n",
    "    img = np.array(img)\n",
    "    img = img/255\n",
    "    label = 'Normal'\n",
    "    train_data.append(img)\n",
    "    train_labels.append(label)"
   ]
  },
  {
   "cell_type": "code",
   "execution_count": 125,
   "id": "e61237be",
   "metadata": {},
   "outputs": [],
   "source": [
    "for img in Stone_Cases:\n",
    "    img = cv2.imread(str(img))\n",
    "    if img.shape[2] == 1:\n",
    "        img = np.dstack([img,img,img])\n",
    "    img = cv2.cvtColor(img, cv2.COLOR_BGR2RGB)\n",
    "    img = np.array(img)\n",
    "    img = img/255\n",
    "    label = \"Stone\"\n",
    "    train_data.append(img)\n",
    "    train_labels.append(label)"
   ]
  },
  {
   "cell_type": "code",
   "execution_count": 126,
   "id": "100dd1dc",
   "metadata": {},
   "outputs": [],
   "source": [
    "for img in Tumor_Cases:\n",
    "    img = cv2.imread(str(img))\n",
    "    if img.shape[2] == 1:\n",
    "        img = np.dstack([img, img, img])\n",
    "    img = cv2.cvtColor(img,cv2.COLOR_BGR2RGB)\n",
    "    img = np.array(img)\n",
    "    img = img/255\n",
    "    label = \"Tumor\"\n",
    "    train_data.append(img)\n",
    "    train_labels.append(label)"
   ]
  },
  {
   "cell_type": "code",
   "execution_count": 127,
   "id": "4d25dfc5",
   "metadata": {},
   "outputs": [
    {
     "name": "stdout",
     "output_type": "stream",
     "text": [
      "Total number of validation example:  (12446, 16, 16, 3)\n",
      "Total number of Labels :  (12446,)\n"
     ]
    }
   ],
   "source": [
    "train_data1 = np.array(train_data) \n",
    "train_labels1 = np.array(train_labels)\n",
    "print('Total number of validation example: ', train_data1.shape)\n",
    "print('Total number of Labels : ', train_labels1.shape)"
   ]
  },
  {
   "cell_type": "code",
   "execution_count": null,
   "id": "2dac3401",
   "metadata": {},
   "outputs": [],
   "source": [
    "train_data1[1]"
   ]
  },
  {
   "cell_type": "code",
   "execution_count": 129,
   "id": "e6954e54",
   "metadata": {
    "scrolled": false
   },
   "outputs": [
    {
     "data": {
      "text/html": [
       "<div>\n",
       "<style scoped>\n",
       "    .dataframe tbody tr th:only-of-type {\n",
       "        vertical-align: middle;\n",
       "    }\n",
       "\n",
       "    .dataframe tbody tr th {\n",
       "        vertical-align: top;\n",
       "    }\n",
       "\n",
       "    .dataframe thead th {\n",
       "        text-align: right;\n",
       "    }\n",
       "</style>\n",
       "<table border=\"1\" class=\"dataframe\">\n",
       "  <thead>\n",
       "    <tr style=\"text-align: right;\">\n",
       "      <th></th>\n",
       "      <th>label</th>\n",
       "    </tr>\n",
       "  </thead>\n",
       "  <tbody>\n",
       "    <tr>\n",
       "      <th>0</th>\n",
       "      <td>Cyst</td>\n",
       "    </tr>\n",
       "    <tr>\n",
       "      <th>1</th>\n",
       "      <td>Cyst</td>\n",
       "    </tr>\n",
       "    <tr>\n",
       "      <th>2</th>\n",
       "      <td>Cyst</td>\n",
       "    </tr>\n",
       "    <tr>\n",
       "      <th>3</th>\n",
       "      <td>Cyst</td>\n",
       "    </tr>\n",
       "    <tr>\n",
       "      <th>4</th>\n",
       "      <td>Cyst</td>\n",
       "    </tr>\n",
       "    <tr>\n",
       "      <th>...</th>\n",
       "      <td>...</td>\n",
       "    </tr>\n",
       "    <tr>\n",
       "      <th>12441</th>\n",
       "      <td>Tumor</td>\n",
       "    </tr>\n",
       "    <tr>\n",
       "      <th>12442</th>\n",
       "      <td>Tumor</td>\n",
       "    </tr>\n",
       "    <tr>\n",
       "      <th>12443</th>\n",
       "      <td>Tumor</td>\n",
       "    </tr>\n",
       "    <tr>\n",
       "      <th>12444</th>\n",
       "      <td>Tumor</td>\n",
       "    </tr>\n",
       "    <tr>\n",
       "      <th>12445</th>\n",
       "      <td>Tumor</td>\n",
       "    </tr>\n",
       "  </tbody>\n",
       "</table>\n",
       "<p>12446 rows × 1 columns</p>\n",
       "</div>"
      ],
      "text/plain": [
       "       label\n",
       "0       Cyst\n",
       "1       Cyst\n",
       "2       Cyst\n",
       "3       Cyst\n",
       "4       Cyst\n",
       "...      ...\n",
       "12441  Tumor\n",
       "12442  Tumor\n",
       "12443  Tumor\n",
       "12444  Tumor\n",
       "12445  Tumor\n",
       "\n",
       "[12446 rows x 1 columns]"
      ]
     },
     "execution_count": 129,
     "metadata": {},
     "output_type": "execute_result"
    }
   ],
   "source": [
    "train_labels1 = pd.DataFrame(train_labels1, columns = ['label'],index=None)\n",
    "train_labels1"
   ]
  },
  {
   "cell_type": "code",
   "execution_count": 130,
   "id": "05c72a38",
   "metadata": {},
   "outputs": [
    {
     "data": {
      "text/plain": [
       "array(['Cyst', 'Normal', 'Stone', 'Tumor'], dtype=object)"
      ]
     },
     "execution_count": 130,
     "metadata": {},
     "output_type": "execute_result"
    }
   ],
   "source": [
    "train_labels1['label'].unique()"
   ]
  },
  {
   "cell_type": "code",
   "execution_count": 131,
   "id": "7d2b8674",
   "metadata": {},
   "outputs": [],
   "source": [
    "train_labels1['label'] = train_labels1['label'].map({'Cyst':0,'Normal':1,'Stone':2,'Tumor':3})"
   ]
  },
  {
   "cell_type": "code",
   "execution_count": 132,
   "id": "0cb5492e",
   "metadata": {
    "scrolled": false
   },
   "outputs": [
    {
     "data": {
      "text/html": [
       "<div>\n",
       "<style scoped>\n",
       "    .dataframe tbody tr th:only-of-type {\n",
       "        vertical-align: middle;\n",
       "    }\n",
       "\n",
       "    .dataframe tbody tr th {\n",
       "        vertical-align: top;\n",
       "    }\n",
       "\n",
       "    .dataframe thead th {\n",
       "        text-align: right;\n",
       "    }\n",
       "</style>\n",
       "<table border=\"1\" class=\"dataframe\">\n",
       "  <thead>\n",
       "    <tr style=\"text-align: right;\">\n",
       "      <th></th>\n",
       "      <th>label</th>\n",
       "    </tr>\n",
       "  </thead>\n",
       "  <tbody>\n",
       "    <tr>\n",
       "      <th>0</th>\n",
       "      <td>0</td>\n",
       "    </tr>\n",
       "    <tr>\n",
       "      <th>1</th>\n",
       "      <td>0</td>\n",
       "    </tr>\n",
       "    <tr>\n",
       "      <th>2</th>\n",
       "      <td>0</td>\n",
       "    </tr>\n",
       "    <tr>\n",
       "      <th>3</th>\n",
       "      <td>0</td>\n",
       "    </tr>\n",
       "    <tr>\n",
       "      <th>4</th>\n",
       "      <td>0</td>\n",
       "    </tr>\n",
       "    <tr>\n",
       "      <th>...</th>\n",
       "      <td>...</td>\n",
       "    </tr>\n",
       "    <tr>\n",
       "      <th>12441</th>\n",
       "      <td>3</td>\n",
       "    </tr>\n",
       "    <tr>\n",
       "      <th>12442</th>\n",
       "      <td>3</td>\n",
       "    </tr>\n",
       "    <tr>\n",
       "      <th>12443</th>\n",
       "      <td>3</td>\n",
       "    </tr>\n",
       "    <tr>\n",
       "      <th>12444</th>\n",
       "      <td>3</td>\n",
       "    </tr>\n",
       "    <tr>\n",
       "      <th>12445</th>\n",
       "      <td>3</td>\n",
       "    </tr>\n",
       "  </tbody>\n",
       "</table>\n",
       "<p>12446 rows × 1 columns</p>\n",
       "</div>"
      ],
      "text/plain": [
       "       label\n",
       "0          0\n",
       "1          0\n",
       "2          0\n",
       "3          0\n",
       "4          0\n",
       "...      ...\n",
       "12441      3\n",
       "12442      3\n",
       "12443      3\n",
       "12444      3\n",
       "12445      3\n",
       "\n",
       "[12446 rows x 1 columns]"
      ]
     },
     "execution_count": 132,
     "metadata": {},
     "output_type": "execute_result"
    }
   ],
   "source": [
    "train_labels1"
   ]
  },
  {
   "cell_type": "code",
   "execution_count": 133,
   "id": "aec9aefe",
   "metadata": {
    "scrolled": true
   },
   "outputs": [
    {
     "name": "stdout",
     "output_type": "stream",
     "text": [
      "(12446, 16, 16, 3)\n",
      "(12446, 1)\n"
     ]
    }
   ],
   "source": [
    "print(train_data1.shape)\n",
    "print(train_labels1.shape)"
   ]
  },
  {
   "cell_type": "code",
   "execution_count": 134,
   "id": "c7da7867",
   "metadata": {},
   "outputs": [
    {
     "data": {
      "text/plain": [
       "label    0\n",
       "dtype: int64"
      ]
     },
     "execution_count": 134,
     "metadata": {},
     "output_type": "execute_result"
    }
   ],
   "source": [
    "train_labels1.isnull().sum()"
   ]
  },
  {
   "cell_type": "code",
   "execution_count": 135,
   "id": "d70badda",
   "metadata": {},
   "outputs": [
    {
     "name": "stdout",
     "output_type": "stream",
     "text": [
      "Original subset data shape: (1244, 768)\n",
      "Resampled subset data shape: (2092, 16, 16, 3)\n",
      "Resampled subset labels shape: (2092, 1)\n"
     ]
    }
   ],
   "source": [
    "from imblearn.over_sampling import SMOTE\n",
    "from sklearn.model_selection import train_test_split\n",
    "\n",
    "# Assuming train_data1 is your original dataset\n",
    "# Assuming train_labels1 is your corresponding labels\n",
    "\n",
    "# Create a subset of the data\n",
    "subset_fraction = 0.1  # 10% of the data\n",
    "subset_data, _, subset_labels, _ = train_test_split(\n",
    "    train_data1, train_labels1, test_size=(1 - subset_fraction), random_state=42\n",
    ")\n",
    "\n",
    "# Reshape the subset data if needed\n",
    "subset_rows = len(subset_data)\n",
    "subset_data = subset_data.reshape(subset_rows, -1)\n",
    "\n",
    "# Apply SMOTE to the subset\n",
    "smote = SMOTE()\n",
    "subset_data_resampled, subset_labels_resampled = smote.fit_resample(subset_data, subset_labels)\n",
    "\n",
    "# Reshape the resampled data back to the original shape if needed\n",
    "subset_data_resampled = subset_data_resampled.reshape(subset_data_resampled.shape[0], 16, 16, 3)\n",
    "\n",
    "# Print the shapes to check\n",
    "print(\"Original subset data shape:\", subset_data.shape)\n",
    "print(\"Resampled subset data shape:\", subset_data_resampled.shape)\n",
    "print(\"Resampled subset labels shape:\", subset_labels_resampled.shape)\n"
   ]
  },
  {
   "cell_type": "code",
   "execution_count": 136,
   "id": "bb0f5ada",
   "metadata": {},
   "outputs": [
    {
     "name": "stderr",
     "output_type": "stream",
     "text": [
      "/var/folders/m4/0yq10js97k90dzpb9_y3tfzc0000gn/T/ipykernel_27774/1410693467.py:4: FutureWarning: \n",
      "\n",
      "Passing `palette` without assigning `hue` is deprecated and will be removed in v0.14.0. Assign the `x` variable to `hue` and set `legend=False` for the same effect.\n",
      "\n",
      "  sns.barplot(x=cases_count1.index, y=cases_count1.values, palette='bright', edgecolor='black')\n"
     ]
    },
    {
     "data": {
      "image/png": "[encoded data removed]",
      "text/plain": [
       "<Figure size 800x600 with 1 Axes>"
      ]
     },
     "metadata": {},
     "output_type": "display_data"
    }
   ],
   "source": [
    "cases_count1 = subset_labels_resampled['label'].value_counts() \n",
    "\n",
    "plt.figure(figsize=(8,6)) \n",
    "sns.barplot(x=cases_count1.index, y=cases_count1.values, palette='bright', edgecolor='black')\n",
    "plt.title('Number of cases', fontsize = 14)\n",
    "plt.xlabel('Case Type',fontsize = 12)\n",
    "plt.ylabel('Count', fontsize = 12)\n",
    "plt.xticks(range(len(cases_count1.index)), ['Cyst(0)', 'Normal(1)', 'Stone(2)', 'Tumor(3)'])\n",
    "plt.show()"
   ]
  },
  {
   "cell_type": "code",
   "execution_count": 137,
   "id": "50ca916b",
   "metadata": {},
   "outputs": [
    {
     "data": {
      "text/plain": [
       "(2092, 16, 16, 3)"
      ]
     },
     "execution_count": 137,
     "metadata": {},
     "output_type": "execute_result"
    }
   ],
   "source": [
    "subset_data_resampled.shape"
   ]
  },
  {
   "cell_type": "code",
   "execution_count": 138,
   "id": "077fb245",
   "metadata": {},
   "outputs": [
    {
     "data": {
      "text/plain": [
       "(2092, 16, 16, 3)"
      ]
     },
     "execution_count": 138,
     "metadata": {},
     "output_type": "execute_result"
    }
   ],
   "source": [
    "train_data2 = subset_data_resampled.reshape(-1,16,16,3) # Converting 2D array to 4D Array\n",
    "train_data2.shape\n"
   ]
  },
  {
   "cell_type": "code",
   "execution_count": null,
   "id": "676fa9f7",
   "metadata": {
    "scrolled": true
   },
   "outputs": [],
   "source": [
    "train_data"
   ]
  },
  {
   "cell_type": "code",
   "execution_count": 140,
   "id": "93137916",
   "metadata": {},
   "outputs": [],
   "source": [
    "from sklearn.model_selection import train_test_split\n",
    "\n",
    "subset_size = 1000  # Adjust the size based on your available memory\n",
    "X_train, X_test, y_train, y_test = train_test_split(train_data2[:subset_size], subset_labels_resampled[:subset_size], test_size=0.20, random_state=42)\n",
    "X_train, X_val, y_train, y_val = train_test_split(X_train, y_train, test_size=0.10, random_state=42)"
   ]
  },
  {
   "cell_type": "code",
   "execution_count": 141,
   "id": "be2dbb3a",
   "metadata": {},
   "outputs": [
    {
     "name": "stdout",
     "output_type": "stream",
     "text": [
      "Training Data X :  (720, 16, 16, 3)\n",
      "Testing Data X :  (200, 16, 16, 3)\n",
      "Training Data y :  (720, 1)\n",
      "Testing Data y :  (200, 1)\n",
      "Validating Data X :  (80, 16, 16, 3)\n",
      "Validating Data y (80, 1)\n",
      "Image Size :  (16, 16, 3)\n"
     ]
    }
   ],
   "source": [
    "print(\"Training Data X : \",X_train.shape)\n",
    "print(\"Testing Data X : \",X_test.shape)\n",
    "print(\"Training Data y : \",y_train.shape)\n",
    "print(\"Testing Data y : \",y_test.shape)\n",
    "print(\"Validating Data X : \",X_val.shape)\n",
    "print(\"Validating Data y\",y_val.shape)\n",
    "print(\"Image Size : \",X_train[0].shape)"
   ]
  },
  {
   "cell_type": "code",
   "execution_count": 142,
   "id": "5a11474f",
   "metadata": {},
   "outputs": [],
   "source": [
    "import tensorflow as tf\n",
    "data_augmentation = tf.keras.preprocessing.image.ImageDataGenerator(\n",
    "                    rotation_range=30, \n",
    "                    horizontal_flip=True)"
   ]
  },
  {
   "cell_type": "code",
   "execution_count": 143,
   "id": "97e657c5",
   "metadata": {},
   "outputs": [
    {
     "name": "stdout",
     "output_type": "stream",
     "text": [
      "Model: \"sequential_2\"\n",
      "_________________________________________________________________\n",
      " Layer (type)                Output Shape              Param #   \n",
      "=================================================================\n",
      " conv2d_4 (Conv2D)           (None, 14, 14, 64)        1792      \n",
      "                                                                 \n",
      " max_pooling2d_4 (MaxPoolin  (None, 7, 7, 64)          0         \n",
      " g2D)                                                            \n",
      "                                                                 \n",
      " conv2d_5 (Conv2D)           (None, 5, 5, 64)          36928     \n",
      "                                                                 \n"
     ]
    },
    {
     "name": "stdout",
     "output_type": "stream",
     "text": [
      " max_pooling2d_5 (MaxPoolin  (None, 2, 2, 64)          0         \n",
      " g2D)                                                            \n",
      "                                                                 \n",
      " flatten_2 (Flatten)         (None, 256)               0         \n",
      "                                                                 \n",
      " dense_4 (Dense)             (None, 32)                8224      \n",
      "                                                                 \n",
      " dense_5 (Dense)             (None, 4)                 132       \n",
      "                                                                 \n",
      "=================================================================\n",
      "Total params: 47076 (183.89 KB)\n",
      "Trainable params: 47076 (183.89 KB)\n",
      "Non-trainable params: 0 (0.00 Byte)\n",
      "_________________________________________________________________\n"
     ]
    }
   ],
   "source": [
    "from tensorflow.keras.models import Sequential\n",
    "from tensorflow.keras.layers import Conv2D, MaxPooling2D, Flatten, Dense\n",
    "\n",
    "model = Sequential([\n",
    "    Conv2D(64, (3, 3), activation='relu', input_shape=(16, 16, 3)),\n",
    "    MaxPooling2D((2, 2)),\n",
    "    Conv2D(64, (3, 3), activation='relu'),\n",
    "    MaxPooling2D((2, 2)),\n",
    "    Flatten(),\n",
    "    Dense(32, activation='relu'),\n",
    "    Dense(4, activation='softmax')\n",
    "])\n",
    "model.summary()\n"
   ]
  },
  {
   "cell_type": "code",
   "execution_count": 144,
   "id": "3ea74248",
   "metadata": {
    "scrolled": false
   },
   "outputs": [
    {
     "name": "stdout",
     "output_type": "stream",
     "text": [
      "Epoch 1/10\n"
     ]
    },
    {
     "name": "stdout",
     "output_type": "stream",
     "text": [
      "23/23 [==============================] - 0s 6ms/step - loss: 1.2206 - accuracy: 0.4486 - val_loss: 1.0624 - val_accuracy: 0.6000\n",
      "Epoch 2/10\n",
      "23/23 [==============================] - 0s 3ms/step - loss: 1.0260 - accuracy: 0.6181 - val_loss: 0.9215 - val_accuracy: 0.6125\n",
      "Epoch 3/10\n",
      "23/23 [==============================] - 0s 3ms/step - loss: 0.9553 - accuracy: 0.6306 - val_loss: 0.8714 - val_accuracy: 0.7000\n",
      "Epoch 4/10\n",
      "23/23 [==============================] - 0s 3ms/step - loss: 0.8813 - accuracy: 0.6556 - val_loss: 0.9056 - val_accuracy: 0.6500\n",
      "Epoch 5/10\n",
      "23/23 [==============================] - 0s 3ms/step - loss: 0.8120 - accuracy: 0.6889 - val_loss: 0.7929 - val_accuracy: 0.7375\n",
      "Epoch 6/10\n",
      "23/23 [==============================] - 0s 3ms/step - loss: 0.7445 - accuracy: 0.7278 - val_loss: 0.7603 - val_accuracy: 0.7125\n",
      "Epoch 7/10\n",
      "23/23 [==============================] - 0s 3ms/step - loss: 0.7224 - accuracy: 0.7153 - val_loss: 0.7406 - val_accuracy: 0.7375\n",
      "Epoch 8/10\n",
      "23/23 [==============================] - 0s 3ms/step - loss: 0.6311 - accuracy: 0.7708 - val_loss: 0.7390 - val_accuracy: 0.7250\n",
      "Epoch 9/10\n",
      "23/23 [==============================] - 0s 3ms/step - loss: 0.5650 - accuracy: 0.8069 - val_loss: 0.6919 - val_accuracy: 0.7625\n",
      "Epoch 10/10\n",
      "23/23 [==============================] - 0s 3ms/step - loss: 0.5347 - accuracy: 0.8292 - val_loss: 0.6222 - val_accuracy: 0.7500\n"
     ]
    },
    {
     "data": {
      "image/png": "[encoded data removed]",
      "text/plain": [
       "<Figure size 640x480 with 1 Axes>"
      ]
     },
     "metadata": {},
     "output_type": "display_data"
    },
    {
     "data": {
      "image/png": "[encoded data removed]",
      "text/plain": [
       "<Figure size 640x480 with 1 Axes>"
      ]
     },
     "metadata": {},
     "output_type": "display_data"
    }
   ],
   "source": [
    "model.compile(optimizer='adam',\n",
    "              loss='sparse_categorical_crossentropy',\n",
    "              metrics=['accuracy'])\n",
    "\n",
    "history = model.fit(np.array(X_train), np.array(y_train), epochs=10, validation_data=(np.array(X_val), np.array(y_val)))\n",
    "\n",
    "plt.plot(history.history['loss'])\n",
    "plt.ylabel(\"loss\")\n",
    "plt.xlabel(\"epoch\")\n",
    "plt.title(\"Training Loss Curve\")\n",
    "plt.show()\n",
    "\n",
    "plt.plot(history.history['accuracy'])\n",
    "plt.ylabel(\"accuracy\")\n",
    "plt.xlabel(\"epoch\")\n",
    "plt.title(\"Training accuracy Curve\")\n",
    "plt.show()"
   ]
  },
  {
   "cell_type": "code",
   "execution_count": 145,
   "id": "6a7caf4a",
   "metadata": {
    "scrolled": true
   },
   "outputs": [
    {
     "name": "stdout",
     "output_type": "stream",
     "text": [
      "WARNING:tensorflow:5 out of the last 17 calls to <function Model.make_predict_function.<locals>.predict_function at 0x2d568a8e0> triggered tf.function retracing. Tracing is expensive and the excessive number of tracings could be due to (1) creating @tf.function repeatedly in a loop, (2) passing tensors with different shapes, (3) passing Python objects instead of tensors. For (1), please define your @tf.function outside of the loop. For (2), @tf.function has reduce_retracing=True option that can avoid unnecessary retracing. For (3), please refer to https://www.tensorflow.org/guide/function#controlling_retracing and https://www.tensorflow.org/api_docs/python/tf/function for  more details.\n",
      "7/7 [==============================] - 0s 1ms/step\n",
      "[[5.75317860e-01 7.23391771e-02 1.56131342e-01 1.96211606e-01]\n",
      " [3.93957794e-01 7.09626898e-02 1.18915796e-01 4.16163713e-01]\n",
      " [1.01462090e-02 7.04991758e-01 1.20674789e-01 1.64187327e-01]\n",
      " [5.48678279e-01 1.49766997e-01 1.35960877e-01 1.65593877e-01]\n",
      " [8.68786156e-01 1.16426963e-02 6.71478137e-02 5.24233356e-02]\n",
      " [9.83876176e-04 5.96053541e-01 4.15527187e-02 3.61409843e-01]\n",
      " [2.31903289e-02 5.12766659e-01 1.12205006e-01 3.51837963e-01]\n",
      " [5.00698209e-01 3.22348401e-02 1.16618641e-01 3.50448340e-01]\n",
      " [6.67510927e-01 8.10762271e-02 1.62115589e-01 8.92971978e-02]\n",
      " [1.20672798e-02 8.30183923e-02 6.25366122e-02 8.42377722e-01]\n",
      " [2.13623769e-03 6.14788651e-01 1.65387187e-02 3.66536409e-01]\n",
      " [8.88509631e-01 7.41458451e-03 2.15303227e-02 8.25453550e-02]\n",
      " [1.64379478e-01 3.85777622e-01 1.54172376e-01 2.95670539e-01]\n",
      " [8.14377308e-01 1.26495445e-02 6.09748363e-02 1.11998364e-01]\n",
      " [1.20456070e-02 6.69728100e-01 1.37167707e-01 1.81058645e-01]\n",
      " [5.82423210e-01 1.35580394e-02 2.69864827e-01 1.34153828e-01]\n",
      " [1.27722353e-06 8.85676980e-01 2.82628462e-03 1.11495435e-01]\n",
      " [7.96574532e-05 5.07840514e-01 2.05652807e-02 4.71514523e-01]\n",
      " [4.06657020e-03 3.94663125e-01 2.04943836e-01 3.96326423e-01]\n",
      " [8.38237047e-01 1.93625800e-02 9.69915316e-02 4.54088412e-02]\n",
      " [1.43132145e-02 3.04805577e-01 2.58285195e-01 4.22595978e-01]\n",
      " [4.19376642e-01 7.55937696e-02 1.08440727e-01 3.96588802e-01]\n",
      " [1.62180245e-03 4.74742979e-01 2.19367966e-02 5.01698315e-01]\n",
      " [1.12366475e-01 4.56006639e-02 1.71950489e-01 6.70082331e-01]\n",
      " [1.29032284e-01 1.65103599e-01 1.30844384e-01 5.75019658e-01]\n",
      " [4.58287221e-04 8.34959805e-01 3.03277187e-02 1.34254232e-01]\n",
      " [1.28954977e-01 5.71254551e-01 1.94655091e-01 1.05135374e-01]\n",
      " [1.22176611e-03 5.69954097e-01 6.46282509e-02 3.64195943e-01]\n",
      " [1.09671995e-01 5.98981261e-01 1.58652201e-01 1.32694483e-01]\n",
      " [1.04090548e-03 7.83935010e-01 1.49020953e-02 2.00122058e-01]\n",
      " [9.07044951e-03 7.04346836e-01 3.53017934e-02 2.51280934e-01]\n",
      " [5.46731174e-01 2.68709790e-02 1.81629494e-01 2.44768307e-01]\n",
      " [2.17132867e-04 6.59380794e-01 3.24106775e-02 3.07991415e-01]\n",
      " [5.87644100e-01 2.57520229e-02 1.66494653e-01 2.20109150e-01]\n",
      " [4.33578296e-03 8.92753541e-01 6.17603883e-02 4.11503315e-02]\n",
      " [5.75377867e-02 4.02019203e-01 1.55322045e-01 3.85121018e-01]\n",
      " [3.67369394e-05 5.83360076e-01 1.24918278e-02 4.04111385e-01]\n",
      " [1.82502298e-03 5.47998190e-01 8.25187564e-02 3.67657989e-01]\n",
      " [5.11347353e-01 1.64725613e-02 1.74353406e-01 2.97826618e-01]\n",
      " [7.78853178e-01 1.17925527e-02 7.80210644e-02 1.31333217e-01]\n",
      " [1.79584678e-02 2.39583269e-01 2.92969853e-01 4.49488461e-01]\n",
      " [8.84770215e-01 9.62218270e-03 5.92443906e-02 4.63632084e-02]\n",
      " [9.84967570e-04 9.08656418e-01 1.18591916e-02 7.84994140e-02]\n",
      " [2.95120617e-03 3.35390538e-01 4.38668244e-02 6.17791414e-01]\n",
      " [4.74360888e-04 6.33636773e-01 7.74005577e-02 2.88488358e-01]\n",
      " [9.53903675e-01 3.61670507e-03 1.73185784e-02 2.51610968e-02]\n",
      " [5.96276700e-01 1.07817259e-02 6.71712831e-02 3.25770229e-01]\n",
      " [4.36096816e-05 9.25563812e-01 8.76258966e-03 6.56300485e-02]\n",
      " [1.32392952e-05 8.90088320e-01 5.12187695e-03 1.04776561e-01]\n",
      " [6.03442669e-01 2.61501819e-02 2.15154663e-01 1.55252516e-01]\n",
      " [5.78600040e-04 7.10642755e-01 1.74937919e-02 2.71284908e-01]\n",
      " [6.79243385e-06 9.11319077e-01 3.88659816e-03 8.47875103e-02]\n",
      " [1.37093216e-01 1.21982202e-01 1.97204605e-01 5.43720007e-01]\n",
      " [2.48172134e-03 5.17085731e-01 4.48931940e-02 4.35539365e-01]\n",
      " [1.94063279e-04 3.83422524e-01 2.03378126e-02 5.96045554e-01]\n",
      " [6.44736737e-02 6.26870334e-01 1.16203815e-01 1.92452222e-01]\n",
      " [7.20033282e-03 5.53795636e-01 3.31495255e-02 4.05854493e-01]\n",
      " [6.67740464e-01 2.80073527e-02 1.17830671e-01 1.86421528e-01]\n",
      " [2.39905454e-02 3.36410582e-01 4.02986929e-02 5.99300265e-01]\n",
      " [7.25650638e-02 2.80017972e-01 1.65209055e-01 4.82207894e-01]\n",
      " [5.34244748e-07 9.41157699e-01 1.28189952e-03 5.75599112e-02]\n",
      " [3.61710876e-01 3.73638421e-02 3.32461834e-01 2.68463433e-01]\n",
      " [5.95164955e-01 1.16107441e-01 1.55650452e-01 1.33077264e-01]\n",
      " [4.33282137e-01 5.28071113e-02 2.93701589e-01 2.20209196e-01]\n",
      " [1.22601000e-06 9.56143558e-01 1.17598462e-03 4.26791683e-02]\n",
      " [4.98852402e-01 1.55760413e-02 1.08911432e-01 3.76660109e-01]\n",
      " [3.75985292e-05 8.20479095e-01 1.02612423e-02 1.69222116e-01]\n",
      " [4.91106510e-01 5.54315113e-02 6.84961453e-02 3.84965837e-01]\n",
      " [3.03714653e-03 5.80663502e-01 6.58993050e-02 3.50400090e-01]\n",
      " [3.96251089e-05 8.62060249e-01 9.11520515e-03 1.28784910e-01]\n",
      " [8.64450991e-01 4.82141227e-03 4.96643968e-02 8.10632482e-02]\n",
      " [5.66724479e-01 7.06749922e-03 2.49172896e-01 1.77035078e-01]\n",
      " [2.75975792e-04 6.54265583e-01 3.51838358e-02 3.10274631e-01]\n",
      " [6.63840890e-01 3.81613858e-02 8.29424113e-02 2.15055406e-01]\n",
      " [7.29957819e-01 6.75193919e-03 1.10432900e-01 1.52857274e-01]\n",
      " [2.92450245e-02 1.88677549e-01 4.36316468e-02 7.38445759e-01]\n",
      " [8.97058845e-01 4.40179510e-03 7.59943128e-02 2.25451197e-02]\n",
      " [4.67782646e-01 2.46540979e-02 1.76361009e-01 3.31202239e-01]\n",
      " [4.08444961e-04 3.46203685e-01 1.64794419e-02 6.36908472e-01]\n",
      " [1.59140979e-03 6.83550835e-01 2.49398556e-02 2.89917976e-01]\n",
      " [1.54125609e-03 4.84860688e-01 1.66520383e-02 4.96946037e-01]\n",
      " [4.98004847e-05 9.37183201e-01 2.74912827e-03 6.00177981e-02]\n",
      " [6.84504909e-03 7.91614115e-01 4.53155190e-02 1.56225368e-01]\n",
      " [1.06185064e-01 1.02008380e-01 1.42321408e-01 6.49485171e-01]\n",
      " [1.07982747e-01 3.71917069e-01 3.58765125e-01 1.61335051e-01]\n",
      " [8.68046880e-02 3.97702485e-01 1.74575165e-01 3.40917677e-01]\n",
      " [8.00779555e-03 6.99977100e-01 3.04437429e-02 2.61571378e-01]\n",
      " [9.09452420e-03 7.07607806e-01 3.18275429e-02 2.51470089e-01]\n",
      " [4.48506355e-01 3.78754735e-02 3.22375745e-01 1.91242471e-01]\n",
      " [7.64564844e-04 5.82539082e-01 3.30482647e-02 3.83648127e-01]\n",
      " [4.05509889e-01 6.48968592e-02 1.32406682e-01 3.97186488e-01]\n",
      " [5.43350697e-01 1.49373710e-02 1.14687026e-01 3.27024877e-01]\n",
      " [1.51488683e-04 6.83507562e-01 2.41366029e-02 2.92204410e-01]\n",
      " [8.25668991e-01 1.76450890e-02 6.66531771e-02 9.00327414e-02]\n",
      " [2.12334350e-01 3.68339494e-02 1.24655135e-01 6.26176536e-01]\n",
      " [3.30631810e-05 8.22189093e-01 9.63197835e-03 1.68145895e-01]\n",
      " [4.26371611e-04 4.88614947e-01 6.32487163e-02 4.47709888e-01]\n",
      " [5.79696009e-03 6.86565042e-01 3.03476527e-02 2.77290374e-01]\n",
      " [2.80705408e-05 7.37318039e-01 1.58430245e-02 2.46810898e-01]\n",
      " [8.43761009e-05 8.16391647e-01 1.57756042e-02 1.67748362e-01]\n",
      " [1.58495411e-01 1.31521001e-01 2.52006620e-01 4.57976937e-01]\n",
      " [1.44256801e-05 8.80196333e-01 6.81242906e-03 1.12976879e-01]\n",
      " [1.45707803e-03 5.35512269e-01 4.11698967e-02 4.21860754e-01]\n",
      " [9.27842280e-04 1.77888781e-01 3.01109720e-02 7.91072369e-01]\n",
      " [1.22626807e-05 8.41877580e-01 5.28752990e-03 1.52822614e-01]\n",
      " [9.00439024e-01 5.27348975e-03 4.47875410e-02 4.94998619e-02]\n",
      " [3.00422788e-01 7.20694512e-02 3.90313059e-01 2.37194687e-01]\n",
      " [9.35275693e-07 9.41431761e-01 1.78829534e-03 5.67790493e-02]\n",
      " [7.63845801e-01 7.68300146e-03 1.12623218e-02 2.17208892e-01]\n",
      " [8.13059567e-04 4.50628966e-01 2.66231187e-02 5.21934867e-01]\n",
      " [3.10732896e-04 9.46915805e-01 2.27798074e-02 2.99935509e-02]\n",
      " [8.73825252e-01 3.16607743e-03 1.71673428e-02 1.05841316e-01]\n",
      " [1.21746201e-03 4.94606078e-01 5.36039770e-02 4.50572491e-01]\n",
      " [5.62873602e-01 1.04668560e-02 6.63367137e-02 3.60322863e-01]\n",
      " [3.59195238e-03 9.08977211e-01 1.95891690e-02 6.78416416e-02]\n",
      " [5.85502028e-01 1.44215286e-01 9.04171169e-02 1.79865584e-01]\n",
      " [4.38964128e-01 9.91687179e-02 3.14987361e-01 1.46879852e-01]\n",
      " [1.29493797e-04 9.58736420e-01 5.52832009e-03 3.56058218e-02]\n",
      " [4.26150509e-04 7.81392217e-01 1.65330600e-02 2.01648548e-01]\n",
      " [5.64023890e-02 6.18493915e-01 1.31826282e-01 1.93277493e-01]\n",
      " [3.10044154e-03 6.70624673e-01 2.97157541e-02 2.96559125e-01]\n",
      " [9.71889853e-01 5.72755584e-04 1.58717800e-02 1.16654914e-02]\n",
      " [8.36243689e-01 4.48921788e-03 1.02655888e-01 5.66111989e-02]\n",
      " [6.41586959e-01 1.36888092e-02 8.44788849e-02 2.60245413e-01]\n",
      " [6.21415600e-02 5.86601079e-01 2.24025115e-01 1.27232224e-01]\n",
      " [6.09491289e-01 7.36335814e-02 9.91848633e-02 2.17690244e-01]\n",
      " [2.81848371e-01 2.78355092e-01 1.35293469e-01 3.04503113e-01]\n",
      " [8.16580746e-03 8.27692926e-01 3.69236805e-02 1.27217636e-01]\n",
      " [7.75536299e-02 2.28495896e-02 4.26276624e-02 8.56969178e-01]\n",
      " [2.72923899e-05 9.43513393e-01 4.42993082e-03 5.20293377e-02]\n",
      " [6.07692540e-01 7.85821024e-03 6.16743751e-02 3.22774857e-01]\n",
      " [6.16534233e-01 1.08223215e-01 1.44903347e-01 1.30339205e-01]\n",
      " [1.86837539e-01 1.01119921e-01 8.50371569e-02 6.27005339e-01]\n",
      " [2.29314357e-01 3.37237604e-02 9.02225152e-02 6.46739304e-01]\n",
      " [1.70648651e-04 8.84992838e-01 1.31351203e-02 1.01701304e-01]\n",
      " [5.25847375e-01 1.19794108e-01 2.24886984e-01 1.29471526e-01]\n",
      " [6.40561581e-01 4.54120450e-02 1.82188779e-01 1.31837592e-01]\n",
      " [2.66036835e-07 8.47566485e-01 1.38456991e-03 1.51048586e-01]\n",
      " [4.83495707e-04 9.27650690e-01 8.55949894e-03 6.33063018e-02]\n",
      " [8.03303838e-01 5.05135953e-03 6.85794801e-02 1.23065285e-01]\n",
      " [6.20954394e-01 1.11950055e-01 1.68066204e-01 9.90293697e-02]\n",
      " [4.51496691e-01 5.76421283e-02 2.34006643e-01 2.56854475e-01]\n",
      " [1.96633875e-04 8.52033556e-01 7.15166889e-03 1.40618101e-01]\n",
      " [4.54923749e-04 8.71998787e-01 1.62869226e-02 1.11259446e-01]\n",
      " [7.84841061e-01 7.73382746e-03 7.86747336e-02 1.28750443e-01]\n",
      " [3.56614873e-05 7.98385382e-01 8.85395147e-03 1.92724958e-01]\n",
      " [1.24838862e-05 9.36460376e-01 4.83612204e-03 5.86909801e-02]\n",
      " [9.32209939e-03 7.94065416e-01 6.26175404e-02 1.33994892e-01]\n",
      " [1.70173496e-02 7.26448298e-01 7.09907115e-02 1.85543641e-01]\n",
      " [7.65134275e-01 2.50286143e-03 1.11015841e-01 1.21346980e-01]\n",
      " [7.73538470e-01 1.66653469e-02 1.16578281e-01 9.32178497e-02]\n",
      " [1.21058740e-01 4.55498174e-02 9.35537964e-02 7.39837587e-01]\n",
      " [1.56544440e-04 7.98606634e-01 2.83736642e-02 1.72863200e-01]\n",
      " [5.95133633e-06 4.34156477e-01 8.89007375e-03 5.56947470e-01]\n",
      " [2.36405134e-01 4.74017933e-02 1.66948199e-01 5.49244761e-01]\n",
      " [7.82123148e-01 2.67325565e-02 1.24086633e-01 6.70576468e-02]\n",
      " [4.92328836e-04 8.64722371e-01 9.21881944e-03 1.25566468e-01]\n",
      " [4.09397155e-01 7.28449179e-03 3.99155058e-02 5.43402851e-01]\n",
      " [8.64963308e-02 1.04391783e-01 1.28928825e-01 6.80183053e-01]\n",
      " [7.18572992e-04 8.09356272e-01 4.66484055e-02 1.43276736e-01]\n",
      " [5.83586335e-01 4.43965867e-02 1.20926321e-01 2.51090795e-01]\n",
      " [2.59852735e-04 6.19439304e-01 3.08603756e-02 3.49440485e-01]\n",
      " [2.05926165e-01 1.51086092e-01 9.46412235e-02 5.48346519e-01]\n",
      " [7.37030277e-05 9.57113981e-01 8.30734242e-03 3.45049500e-02]\n",
      " [5.69233298e-01 1.85207818e-02 1.28506437e-01 2.83739507e-01]\n",
      " [3.68873007e-03 3.38305712e-01 2.81194821e-02 6.29886150e-01]\n",
      " [6.09691329e-02 3.22225004e-01 7.62001723e-02 5.40605724e-01]\n",
      " [1.51056513e-01 1.96265876e-01 1.26398578e-01 5.26279032e-01]\n",
      " [6.94586635e-02 4.25696880e-01 3.13095480e-01 1.91749007e-01]\n",
      " [5.06162411e-03 7.13910997e-01 2.68823132e-02 2.54145026e-01]\n",
      " [1.07364401e-01 3.65732074e-01 1.14944071e-01 4.11959440e-01]\n",
      " [7.67403722e-01 1.31732710e-02 1.55312344e-01 6.41107261e-02]\n",
      " [1.15240604e-01 4.49002504e-01 2.64097869e-01 1.71659037e-01]\n",
      " [6.57628334e-05 9.49926376e-01 4.33238642e-03 4.56754752e-02]\n",
      " [9.44892119e-04 2.86681354e-01 3.38294394e-02 6.78544343e-01]\n",
      " [4.06663166e-03 8.45251858e-01 6.16256036e-02 8.90559107e-02]\n",
      " [4.09485817e-01 8.74694362e-02 7.44120777e-02 4.28632677e-01]\n",
      " [6.07074425e-03 7.07476735e-01 9.58530307e-02 1.90599531e-01]\n",
      " [2.03510951e-02 7.23545849e-02 5.43988533e-02 8.52895439e-01]\n",
      " [5.90146985e-04 8.81751299e-01 3.72171141e-02 8.04414824e-02]\n",
      " [2.76567880e-03 4.48882908e-01 9.58896056e-02 4.52461839e-01]\n",
      " [6.15344688e-05 4.12711799e-01 1.86107755e-02 5.68615854e-01]\n",
      " [1.55347947e-03 7.98221946e-01 5.58125488e-02 1.44411951e-01]\n",
      " [1.20164805e-04 8.51250648e-01 2.60983221e-02 1.22530818e-01]\n",
      " [5.07591784e-01 1.31272838e-01 2.11979419e-01 1.49155915e-01]\n",
      " [8.68529081e-01 1.81217920e-02 6.43884838e-02 4.89606857e-02]\n",
      " [5.84688544e-01 4.13889810e-02 1.59501821e-01 2.14420706e-01]\n",
      " [9.76501763e-01 4.84496966e-04 1.24998055e-02 1.05139520e-02]\n",
      " [5.44388473e-01 9.75082535e-03 2.62050301e-01 1.83810338e-01]\n",
      " [1.74942032e-01 4.32589561e-01 2.66173869e-01 1.26294538e-01]\n",
      " [4.50672880e-02 9.18606818e-02 9.23073664e-02 7.70764649e-01]\n",
      " [9.33501360e-06 8.68157566e-01 2.82614422e-03 1.29006967e-01]\n",
      " [8.81647021e-02 1.09155200e-01 1.16695262e-01 6.85984850e-01]\n",
      " [7.50594493e-03 7.76366532e-01 2.82991957e-02 1.87828392e-01]\n",
      " [8.20508957e-01 1.50774103e-02 7.84695148e-02 8.59441459e-02]\n",
      " [2.68893450e-01 1.20110847e-01 1.20179683e-01 4.90815997e-01]\n",
      " [3.87472741e-04 7.23717391e-01 2.73185782e-02 2.48576656e-01]\n",
      " [3.51764937e-03 8.06256831e-01 7.29202777e-02 1.17305294e-01]\n",
      " [4.60260689e-01 3.93829681e-02 3.32415551e-01 1.67940810e-01]\n",
      " [7.12082267e-01 1.83133520e-02 1.14191577e-01 1.55412823e-01]]\n"
     ]
    }
   ],
   "source": [
    "\n",
    "a = model.predict(X_test)\n",
    "print(a)"
   ]
  },
  {
   "cell_type": "code",
   "execution_count": 146,
   "id": "efcfb265",
   "metadata": {
    "scrolled": true
   },
   "outputs": [
    {
     "name": "stdout",
     "output_type": "stream",
     "text": [
      "[0, 3, 1, 0, 0, 1, 1, 0, 0, 3, 1, 0, 1, 0, 1, 0, 1, 1, 3, 0, 3, 0, 3, 3, 3, 1, 1, 1, 1, 1, 1, 0, 1, 0, 1, 1, 1, 1, 0, 0, 3, 0, 1, 3, 1, 0, 0, 1, 1, 0, 1, 1, 3, 1, 3, 1, 1, 0, 3, 3, 1, 0, 0, 0, 1, 0, 1, 0, 1, 1, 0, 0, 1, 0, 0, 3, 0, 0, 3, 1, 3, 1, 1, 3, 1, 1, 1, 1, 0, 1, 0, 0, 1, 0, 3, 1, 1, 1, 1, 1, 3, 1, 1, 3, 1, 0, 2, 1, 0, 3, 1, 0, 1, 0, 1, 0, 0, 1, 1, 1, 1, 0, 0, 0, 1, 0, 3, 1, 3, 1, 0, 0, 3, 3, 1, 0, 0, 1, 1, 0, 0, 0, 1, 1, 0, 1, 1, 1, 1, 0, 0, 3, 1, 3, 3, 0, 1, 3, 3, 1, 0, 1, 3, 1, 0, 3, 3, 3, 1, 1, 3, 0, 1, 1, 3, 1, 3, 1, 3, 1, 3, 3, 1, 1, 0, 0, 0, 0, 0, 1, 3, 1, 3, 1, 0, 3, 1, 1, 0, 0]\n"
     ]
    }
   ],
   "source": [
    "b = []\n",
    "\n",
    "for i in a:\n",
    "    if i[0] > i[1] and i[0] > i[2] and i[0] > i[3]:\n",
    "        b.append(0)\n",
    "    elif i[1] > i[0] and i[1] > i[2] and i[1] > i[3]:\n",
    "        b.append(1)\n",
    "    elif i[2] > i[1] and i[2] > i[0] and i[2] > i[3]:\n",
    "        b.append(2)\n",
    "    else:\n",
    "        b.append(3)\n",
    "\n",
    "print(b)"
   ]
  },
  {
   "cell_type": "code",
   "execution_count": 147,
   "id": "b9dcfe10",
   "metadata": {},
   "outputs": [
    {
     "name": "stdout",
     "output_type": "stream",
     "text": [
      "Accuracy Score :  0.76\n",
      "\n",
      "\n",
      "Confusion Matrix : \n",
      "\n",
      " [[55  1  0  4]\n",
      " [ 2 72  0  9]\n",
      " [ 5  7  1  6]\n",
      " [ 4 10  0 24]]\n"
     ]
    }
   ],
   "source": [
    "from sklearn.metrics import confusion_matrix,f1_score\n",
    "from sklearn.metrics import accuracy_score\n",
    "print(\"Accuracy Score : \",accuracy_score(y_test,b))\n",
    "cm = confusion_matrix(y_test, b)\n",
    "print(\"\\n\\nConfusion Matrix : \\n\\n\",cm)"
   ]
  },
  {
   "cell_type": "code",
   "execution_count": 148,
   "id": "89819408",
   "metadata": {},
   "outputs": [
    {
     "data": {
      "text/plain": [
       "[Text(0, 0.5, 'Cyst'),\n",
       " Text(0, 1.5, 'Normal'),\n",
       " Text(0, 2.5, 'Stone'),\n",
       " Text(0, 3.5, 'Tumor')]"
      ]
     },
     "execution_count": 148,
     "metadata": {},
     "output_type": "execute_result"
    },
    {
     "data": {
      "image/png": "[encoded data removed]",
      "text/plain": [
       "<Figure size 640x480 with 2 Axes>"
      ]
     },
     "metadata": {},
     "output_type": "display_data"
    }
   ],
   "source": [
    "ax= plt.subplot()\n",
    "sns.heatmap(cm, annot=True, fmt='g', ax=ax)\n",
    "\n",
    "ax.set_xlabel('Predicted labels')\n",
    "ax.set_ylabel('True labels')\n",
    "ax.set_title('Confusion Matrix') \n",
    "ax.xaxis.set_ticklabels(['Cyst', 'Normal','Stone','Tumor']) \n",
    "ax.yaxis.set_ticklabels(['Cyst', 'Normal','Stone','Tumor'])"
   ]
  },
  {
   "cell_type": "code",
   "execution_count": 149,
   "id": "0965ef35",
   "metadata": {},
   "outputs": [
    {
     "name": "stdout",
     "output_type": "stream",
     "text": [
      "F1 Score is : 0.76\n"
     ]
    }
   ],
   "source": [
    "print(\"F1 Score is :\",f1_score(y_test,b,average='micro'))\n"
   ]
  },
  {
   "cell_type": "code",
   "execution_count": 150,
   "id": "9563eb68",
   "metadata": {},
   "outputs": [],
   "source": [
    "pic = []\n",
    "image='resized dataset/Resized Folder 16x16/Cyst/Cyst- (1052).jpg'\n",
    "img = cv2.imread(str(image))"
   ]
  },
  {
   "cell_type": "code",
   "execution_count": 151,
   "id": "192b7288",
   "metadata": {},
   "outputs": [],
   "source": [
    "pic.append(img)\n",
    "pic1 = np.array(pic)"
   ]
  },
  {
   "cell_type": "code",
   "execution_count": 152,
   "id": "69a9730a",
   "metadata": {},
   "outputs": [
    {
     "name": "stdout",
     "output_type": "stream",
     "text": [
      "1/1 [==============================] - 0s 28ms/step\n"
     ]
    }
   ],
   "source": [
    "a = model.predict(pic1)"
   ]
  },
  {
   "cell_type": "code",
   "execution_count": 153,
   "id": "db281d97",
   "metadata": {},
   "outputs": [
    {
     "name": "stdout",
     "output_type": "stream",
     "text": [
      "Kidney is \"Normal\" \n"
     ]
    }
   ],
   "source": [
    "if a.argmax() == 0 :\n",
    "    print(\"The detected disease is \\\"Cyst\\\"\")\n",
    "elif a.argmax() == 1 :\n",
    "    print(\"Kidney is \\\"Normal\\\" \")\n",
    "elif a.argmax() == 2:\n",
    "    print(\"The detected disease is \\\"Stone\\\"\")\n",
    "else:\n",
    "    print(\"The detected disease is \\\"Tumor\\\"\")"
   ]
  }
 ],
 "metadata": {
  "kernelspec": {
   "display_name": "Python 3 (ipykernel)",
   "language": "python",
   "name": "python3"
  },
  "language_info": {
   "codemirror_mode": {
    "name": "ipython",
    "version": 3
   },
   "file_extension": ".py",
   "mimetype": "text/x-python",
   "name": "python",
   "nbconvert_exporter": "python",
   "pygments_lexer": "ipython3",
   "version": "3.11.7"
  }
 },
 "nbformat": 4,
 "nbformat_minor": 5
}
